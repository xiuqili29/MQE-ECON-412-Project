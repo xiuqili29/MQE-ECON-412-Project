{
 "cells": [
  {
   "cell_type": "code",
   "execution_count": 147,
   "metadata": {
    "scrolled": true
   },
   "outputs": [
    {
     "data": {
      "text/html": [
       "<div>\n",
       "<style>\n",
       "    .dataframe thead tr:only-child th {\n",
       "        text-align: right;\n",
       "    }\n",
       "\n",
       "    .dataframe thead th {\n",
       "        text-align: left;\n",
       "    }\n",
       "\n",
       "    .dataframe tbody tr th {\n",
       "        vertical-align: top;\n",
       "    }\n",
       "</style>\n",
       "<table border=\"1\" class=\"dataframe\">\n",
       "  <thead>\n",
       "    <tr style=\"text-align: right;\">\n",
       "      <th></th>\n",
       "      <th>MSSubClass</th>\n",
       "      <th>LotArea</th>\n",
       "      <th>OverallQual</th>\n",
       "      <th>OverallCond</th>\n",
       "      <th>Houseage</th>\n",
       "      <th>MasVnrArea</th>\n",
       "      <th>BsmtFinSF1</th>\n",
       "      <th>BsmtUnfSF</th>\n",
       "      <th>TotalBsmtSF</th>\n",
       "      <th>1stFlrSF</th>\n",
       "      <th>GrLivArea</th>\n",
       "      <th>TotRmsAbvGrd</th>\n",
       "      <th>Fireplaces</th>\n",
       "      <th>GarageCars</th>\n",
       "      <th>GarageArea</th>\n",
       "      <th>WoodDeckSF</th>\n",
       "      <th>OpenPorchSF</th>\n",
       "      <th>SalePrice</th>\n",
       "    </tr>\n",
       "  </thead>\n",
       "  <tbody>\n",
       "    <tr>\n",
       "      <th>0</th>\n",
       "      <td>60</td>\n",
       "      <td>8450</td>\n",
       "      <td>7</td>\n",
       "      <td>5</td>\n",
       "      <td>18</td>\n",
       "      <td>196.0</td>\n",
       "      <td>706.0</td>\n",
       "      <td>150.0</td>\n",
       "      <td>856.0</td>\n",
       "      <td>856</td>\n",
       "      <td>1710</td>\n",
       "      <td>8</td>\n",
       "      <td>0.1</td>\n",
       "      <td>2.0</td>\n",
       "      <td>548.0</td>\n",
       "      <td>0.1</td>\n",
       "      <td>61.0</td>\n",
       "      <td>208500</td>\n",
       "    </tr>\n",
       "    <tr>\n",
       "      <th>1</th>\n",
       "      <td>20</td>\n",
       "      <td>9600</td>\n",
       "      <td>6</td>\n",
       "      <td>8</td>\n",
       "      <td>45</td>\n",
       "      <td>0.1</td>\n",
       "      <td>978.0</td>\n",
       "      <td>284.0</td>\n",
       "      <td>1262.0</td>\n",
       "      <td>1262</td>\n",
       "      <td>1262</td>\n",
       "      <td>6</td>\n",
       "      <td>1.0</td>\n",
       "      <td>2.0</td>\n",
       "      <td>460.0</td>\n",
       "      <td>298.0</td>\n",
       "      <td>0.1</td>\n",
       "      <td>181500</td>\n",
       "    </tr>\n",
       "    <tr>\n",
       "      <th>2</th>\n",
       "      <td>60</td>\n",
       "      <td>11250</td>\n",
       "      <td>7</td>\n",
       "      <td>5</td>\n",
       "      <td>20</td>\n",
       "      <td>162.0</td>\n",
       "      <td>486.0</td>\n",
       "      <td>434.0</td>\n",
       "      <td>920.0</td>\n",
       "      <td>920</td>\n",
       "      <td>1786</td>\n",
       "      <td>6</td>\n",
       "      <td>1.0</td>\n",
       "      <td>2.0</td>\n",
       "      <td>608.0</td>\n",
       "      <td>0.1</td>\n",
       "      <td>42.0</td>\n",
       "      <td>223500</td>\n",
       "    </tr>\n",
       "    <tr>\n",
       "      <th>3</th>\n",
       "      <td>70</td>\n",
       "      <td>9550</td>\n",
       "      <td>7</td>\n",
       "      <td>5</td>\n",
       "      <td>106</td>\n",
       "      <td>0.1</td>\n",
       "      <td>216.0</td>\n",
       "      <td>540.0</td>\n",
       "      <td>756.0</td>\n",
       "      <td>961</td>\n",
       "      <td>1717</td>\n",
       "      <td>7</td>\n",
       "      <td>1.0</td>\n",
       "      <td>3.0</td>\n",
       "      <td>642.0</td>\n",
       "      <td>0.1</td>\n",
       "      <td>35.0</td>\n",
       "      <td>140000</td>\n",
       "    </tr>\n",
       "    <tr>\n",
       "      <th>4</th>\n",
       "      <td>60</td>\n",
       "      <td>14260</td>\n",
       "      <td>8</td>\n",
       "      <td>5</td>\n",
       "      <td>21</td>\n",
       "      <td>350.0</td>\n",
       "      <td>655.0</td>\n",
       "      <td>490.0</td>\n",
       "      <td>1145.0</td>\n",
       "      <td>1145</td>\n",
       "      <td>2198</td>\n",
       "      <td>9</td>\n",
       "      <td>1.0</td>\n",
       "      <td>3.0</td>\n",
       "      <td>836.0</td>\n",
       "      <td>192.0</td>\n",
       "      <td>84.0</td>\n",
       "      <td>250000</td>\n",
       "    </tr>\n",
       "  </tbody>\n",
       "</table>\n",
       "</div>"
      ],
      "text/plain": [
       "   MSSubClass  LotArea  OverallQual  OverallCond  Houseage  MasVnrArea  \\\n",
       "0          60     8450            7            5        18       196.0   \n",
       "1          20     9600            6            8        45         0.1   \n",
       "2          60    11250            7            5        20       162.0   \n",
       "3          70     9550            7            5       106         0.1   \n",
       "4          60    14260            8            5        21       350.0   \n",
       "\n",
       "   BsmtFinSF1  BsmtUnfSF  TotalBsmtSF  1stFlrSF  GrLivArea  TotRmsAbvGrd  \\\n",
       "0       706.0      150.0        856.0       856       1710             8   \n",
       "1       978.0      284.0       1262.0      1262       1262             6   \n",
       "2       486.0      434.0        920.0       920       1786             6   \n",
       "3       216.0      540.0        756.0       961       1717             7   \n",
       "4       655.0      490.0       1145.0      1145       2198             9   \n",
       "\n",
       "   Fireplaces  GarageCars  GarageArea  WoodDeckSF  OpenPorchSF  SalePrice  \n",
       "0         0.1         2.0       548.0         0.1         61.0     208500  \n",
       "1         1.0         2.0       460.0       298.0          0.1     181500  \n",
       "2         1.0         2.0       608.0         0.1         42.0     223500  \n",
       "3         1.0         3.0       642.0         0.1         35.0     140000  \n",
       "4         1.0         3.0       836.0       192.0         84.0     250000  "
      ]
     },
     "execution_count": 147,
     "metadata": {},
     "output_type": "execute_result"
    }
   ],
   "source": [
    "import numpy as np \n",
    "import pandas as pd\n",
    "import warnings\n",
    "warnings.simplefilter(\"ignore\")\n",
    "import numpy as np\n",
    "import pandas as pd\n",
    "import seaborn as sns\n",
    "import matplotlib.pyplot as plt\n",
    "plt.style.use('ggplot')\n",
    "%matplotlib inline\n",
    "df=pd.read_csv(\"train1.csv\")\n",
    "df.head()"
   ]
  },
  {
   "cell_type": "code",
   "execution_count": 148,
   "metadata": {},
   "outputs": [],
   "source": [
    "#View NaN\n",
    "df_null = pd.isnull(df)\n",
    "df_null = df[df_null == True]\n",
    "\n",
    "df.dropna(inplace=True)\n",
    "\n",
    "#print(df_null)"
   ]
  },
  {
   "cell_type": "code",
   "execution_count": 149,
   "metadata": {},
   "outputs": [],
   "source": [
    "df['SalePrice'].fillna('0',inplace=True)\n",
    "X = df.drop(['SalePrice'], axis=1).astype('float64')\n",
    "y = df.SalePrice"
   ]
  },
  {
   "cell_type": "code",
   "execution_count": 150,
   "metadata": {
    "scrolled": true
   },
   "outputs": [
    {
     "name": "stdout",
     "output_type": "stream",
     "text": [
      "<class 'pandas.core.frame.DataFrame'>\n",
      "Int64Index: 1452 entries, 0 to 1459\n",
      "Data columns (total 17 columns):\n",
      "MSSubClass      1452 non-null float64\n",
      "LotArea         1452 non-null float64\n",
      "OverallQual     1452 non-null float64\n",
      "OverallCond     1452 non-null float64\n",
      "Houseage        1452 non-null float64\n",
      "MasVnrArea      1452 non-null float64\n",
      "BsmtFinSF1      1452 non-null float64\n",
      "BsmtUnfSF       1452 non-null float64\n",
      "TotalBsmtSF     1452 non-null float64\n",
      "1stFlrSF        1452 non-null float64\n",
      "GrLivArea       1452 non-null float64\n",
      "TotRmsAbvGrd    1452 non-null float64\n",
      "Fireplaces      1452 non-null float64\n",
      "GarageCars      1452 non-null float64\n",
      "GarageArea      1452 non-null float64\n",
      "WoodDeckSF      1452 non-null float64\n",
      "OpenPorchSF     1452 non-null float64\n",
      "dtypes: float64(17)\n",
      "memory usage: 204.2 KB\n",
      "1452\n"
     ]
    }
   ],
   "source": [
    "X.info()\n",
    "count=len(X)\n",
    "print(count)"
   ]
  },
  {
   "cell_type": "code",
   "execution_count": 160,
   "metadata": {},
   "outputs": [],
   "source": [
    "# Splitting the dataset into the Training set and Test set 70% and 30%\n",
    "from sklearn.model_selection import train_test_split\n",
    "X_train,X_test,y_train,y_test = train_test_split(X,y,test_size=0.3,random_state=1)"
   ]
  },
  {
   "cell_type": "code",
   "execution_count": 161,
   "metadata": {},
   "outputs": [
    {
     "data": {
      "image/png": "[encoded data removed]",
      "text/plain": [
       "<matplotlib.figure.Figure at 0x1bf9517d7f0>"
      ]
     },
     "metadata": {},
     "output_type": "display_data"
    }
   ],
   "source": [
    "sns.set_style(\"white\")\n",
    "sns.set_color_codes(palette='deep')\n",
    "f, ax = plt.subplots(figsize=(8, 7))\n",
    "sns.distplot(y, color=\"b\");\n",
    "ax.xaxis.grid(False)\n",
    "ax.set(ylabel=\"Frequency\")\n",
    "ax.set(xlabel=\"y = Sale Price\")\n",
    "ax.set(title=\"Sale Price distribution\")\n",
    "sns.despine(trim=True, left=True)\n",
    "plt.show()"
   ]
  },
  {
   "cell_type": "code",
   "execution_count": 162,
   "metadata": {},
   "outputs": [
    {
     "data": {
      "text/plain": [
       "Text(0,0.5,'weights')"
      ]
     },
     "execution_count": 162,
     "metadata": {},
     "output_type": "execute_result"
    },
    {
     "data": {
      "image/png": "[encoded data removed]",
      "text/plain": [
       "<matplotlib.figure.Figure at 0x1bf96ae4cf8>"
      ]
     },
     "metadata": {},
     "output_type": "display_data"
    }
   ],
   "source": [
    "#lasso\n",
    "from sklearn.preprocessing import scale\n",
    "from sklearn.linear_model import Lasso, LassoCV, Ridge, RidgeCV\n",
    "from sklearn.metrics import accuracy_score\n",
    "from sklearn.metrics import mean_squared_error\n",
    "alphas = 10**np.linspace(6,-2,50)*0.5\n",
    "lasso = Lasso(max_iter=10000, normalize=True)\n",
    "coefs = []\n",
    "\n",
    "for a in alphas:\n",
    "    lasso.set_params(alpha=a)\n",
    "    lasso.fit(X_train, y_train)\n",
    "    coefs.append(lasso.coef_)\n",
    "    \n",
    "np.shape(coefs)\n",
    "ax = plt.gca()\n",
    "ax.plot(alphas, coefs)\n",
    "ax.set_xscale('log')\n",
    "plt.axis('tight')\n",
    "plt.xlabel('alpha')\n",
    "plt.ylabel('weights')"
   ]
  },
  {
   "cell_type": "code",
   "execution_count": 163,
   "metadata": {},
   "outputs": [
    {
     "name": "stdout",
     "output_type": "stream",
     "text": [
      "Alpha= 45.6109058072\n",
      "0.782980130423\n",
      "0.828711800456\n",
      "mse =  1011510681.13\n",
      "number of features used:  14\n",
      "best model coefficients:\n"
     ]
    },
    {
     "data": {
      "text/plain": [
       "MSSubClass       -131.159546\n",
       "LotArea             0.220058\n",
       "OverallQual     21582.052289\n",
       "OverallCond      4015.901384\n",
       "Houseage         -292.986074\n",
       "MasVnrArea         18.067147\n",
       "BsmtFinSF1         10.386523\n",
       "BsmtUnfSF          -0.000000\n",
       "TotalBsmtSF         6.301290\n",
       "1stFlrSF            6.235402\n",
       "GrLivArea          40.325260\n",
       "TotRmsAbvGrd      561.644769\n",
       "Fireplaces       5658.494738\n",
       "GarageCars      13892.454939\n",
       "GarageArea          0.000000\n",
       "WoodDeckSF         33.394354\n",
       "OpenPorchSF         0.000000\n",
       "dtype: float64"
      ]
     },
     "execution_count": 163,
     "metadata": {},
     "output_type": "execute_result"
    }
   ],
   "source": [
    "lassocv = LassoCV(alphas=None, cv=10, normalize=True)\n",
    "lassocv.fit(X_train, y_train)\n",
    "lasso.set_params(alpha=lassocv.alpha_)\n",
    "print(\"Alpha=\", lassocv.alpha_)\n",
    "trainscore=lassocv.score(X_train,y_train)\n",
    "print(trainscore)\n",
    "testscore=lassocv.score(X_test,y_test)\n",
    "print(testscore)\n",
    "print(\"mse = \",mean_squared_error(y_test, lasso.predict(X_test)))\n",
    "coeff_used = np.sum(lassocv.coef_!=0)\n",
    "print (\"number of features used: \", coeff_used)\n",
    "print(\"best model coefficients:\")\n",
    "pd.Series(lassocv.coef_, index=X.columns)"
   ]
  },
  {
   "cell_type": "code",
   "execution_count": 164,
   "metadata": {},
   "outputs": [
    {
     "name": "stdout",
     "output_type": "stream",
     "text": [
      "0.78517879146\n",
      "0.833169646409\n",
      "mse =  1011472396.5\n",
      "number of features used:  17\n",
      "best model coefficients:\n"
     ]
    },
    {
     "data": {
      "text/plain": [
       "MSSubClass       -166.729795\n",
       "LotArea             0.312013\n",
       "OverallQual     21263.057051\n",
       "OverallCond      6035.912485\n",
       "Houseage         -362.207886\n",
       "MasVnrArea         23.003090\n",
       "BsmtFinSF1          9.382706\n",
       "BsmtUnfSF          -2.764503\n",
       "TotalBsmtSF         8.908628\n",
       "1stFlrSF            4.973382\n",
       "GrLivArea          39.961316\n",
       "TotRmsAbvGrd     1356.853719\n",
       "Fireplaces       6125.528031\n",
       "GarageCars      16153.810340\n",
       "GarageArea         -9.044466\n",
       "WoodDeckSF         37.692121\n",
       "OpenPorchSF         2.058358\n",
       "dtype: float64"
      ]
     },
     "execution_count": 164,
     "metadata": {},
     "output_type": "execute_result"
    }
   ],
   "source": [
    "lasso = Lasso()\n",
    "lasso.fit(X_train, y_train)\n",
    "\n",
    "trainscore=lasso.score(X_train,y_train)\n",
    "print(trainscore)\n",
    "testscore=lasso.score(X_test,y_test)\n",
    "print(testscore)\n",
    "print(\"mse = \",mean_squared_error(y_test, lasso.predict(X_test)))\n",
    "coeff_used = np.sum(lasso.coef_!=0)\n",
    "print (\"number of features used: \", coeff_used)\n",
    "print(\"best model coefficients:\")\n",
    "pd.Series(lasso.coef_, index=X.columns)"
   ]
  },
  {
   "cell_type": "code",
   "execution_count": 165,
   "metadata": {},
   "outputs": [
    {
     "data": {
      "image/png": "[encoded data removed]",
      "text/plain": [
       "<matplotlib.figure.Figure at 0x1bf969b2ac8>"
      ]
     },
     "metadata": {},
     "output_type": "display_data"
    }
   ],
   "source": [
    "plt.figure(figsize = (7,7))\n",
    "plt.plot(lasso.coef_,'s',label = \"Lasso alpha=1\")\n",
    "plt.plot(lassocv.coef_,'^',label = \"Lassocv alpha=1.45\")\n",
    "plt.xlabel('Coefficient index')\n",
    "plt.ylabel('Coefficient magnitude')\n",
    "plt.legend(ncol=2,loc=(0,1.05))\n",
    "plt.show()"
   ]
  },
  {
   "cell_type": "code",
   "execution_count": 166,
   "metadata": {},
   "outputs": [
    {
     "data": {
      "text/plain": [
       "Text(0,0.5,'weights')"
      ]
     },
     "execution_count": 166,
     "metadata": {},
     "output_type": "execute_result"
    },
    {
     "data": {
      "image/png": "[encoded data removed]",
      "text/plain": [
       "<matplotlib.figure.Figure at 0x1bf9526ad30>"
      ]
     },
     "metadata": {},
     "output_type": "display_data"
    }
   ],
   "source": [
    "#Ridge\n",
    "alphas = 10**np.linspace(6,-2,50)*0.5\n",
    "ridge = Ridge(max_iter=10000, normalize=True)\n",
    "coefs = []\n",
    "\n",
    "for a in alphas:\n",
    "    ridge.set_params(alpha=a)\n",
    "    ridge.fit(X_train, y_train)\n",
    "    coefs.append(ridge.coef_)\n",
    "    \n",
    "np.shape(coefs)\n",
    "ax = plt.gca()\n",
    "ax.plot(alphas, coefs)\n",
    "ax.set_xscale('log')\n",
    "plt.axis('tight')\n",
    "plt.xlabel('alpha')\n",
    "plt.ylabel('weights')"
   ]
  },
  {
   "cell_type": "code",
   "execution_count": 167,
   "metadata": {},
   "outputs": [
    {
     "name": "stdout",
     "output_type": "stream",
     "text": [
      "Alpha= 0.214596713006\n",
      "0.777230405401\n",
      "0.828002701801\n",
      "mse =  1010706944.34\n",
      "number of features used:  17\n",
      "best model coefficients:\n"
     ]
    },
    {
     "data": {
      "text/plain": [
       "MSSubClass       -101.733576\n",
       "LotArea             0.256147\n",
       "OverallQual     16365.879685\n",
       "OverallCond      4839.358299\n",
       "Houseage         -347.631812\n",
       "MasVnrArea         26.523741\n",
       "BsmtFinSF1          9.565018\n",
       "BsmtUnfSF           0.713018\n",
       "TotalBsmtSF        10.566447\n",
       "1stFlrSF            9.651854\n",
       "GrLivArea          26.993438\n",
       "TotRmsAbvGrd     3792.704933\n",
       "Fireplaces       9016.896013\n",
       "GarageCars      11360.709605\n",
       "GarageArea         17.552631\n",
       "WoodDeckSF         37.542364\n",
       "OpenPorchSF        30.687672\n",
       "dtype: float64"
      ]
     },
     "execution_count": 167,
     "metadata": {},
     "output_type": "execute_result"
    }
   ],
   "source": [
    "ridgecv = RidgeCV(alphas=alphas, cv=10, normalize=True)\n",
    "ridgecv.fit(X_train, y_train)\n",
    "ridge.set_params(alpha=ridgecv.alpha_)\n",
    "print(\"Alpha=\", ridgecv.alpha_)\n",
    "trainscore=ridgecv.score(X_train,y_train)\n",
    "print(trainscore)\n",
    "testscore=ridgecv.score(X_test,y_test)\n",
    "print(testscore)\n",
    "print(\"mse = \",mean_squared_error(y_test, ridge.predict(X_test)))\n",
    "coeff_used = np.sum(ridgecv.coef_!=0)\n",
    "print (\"number of features used: \", coeff_used)\n",
    "print(\"best model coefficients:\")\n",
    "pd.Series(ridgecv.coef_, index=X.columns)"
   ]
  },
  {
   "cell_type": "code",
   "execution_count": 168,
   "metadata": {},
   "outputs": [
    {
     "name": "stdout",
     "output_type": "stream",
     "text": [
      "0.785178354844\n",
      "0.833250785134\n",
      "mse =  1010980462.15\n",
      "number of features used:  17\n",
      "best model coefficients:\n"
     ]
    },
    {
     "data": {
      "text/plain": [
       "MSSubClass       -166.655446\n",
       "LotArea             0.311799\n",
       "OverallQual     21241.648043\n",
       "OverallCond      6034.464972\n",
       "Houseage         -363.094855\n",
       "MasVnrArea         23.010491\n",
       "BsmtFinSF1          9.374697\n",
       "BsmtUnfSF          -2.749529\n",
       "TotalBsmtSF         8.908426\n",
       "1stFlrSF            4.972057\n",
       "GrLivArea          39.987976\n",
       "TotRmsAbvGrd     1359.308240\n",
       "Fireplaces       6124.089304\n",
       "GarageCars      16016.553321\n",
       "GarageArea         -8.649607\n",
       "WoodDeckSF         37.700395\n",
       "OpenPorchSF         2.066790\n",
       "dtype: float64"
      ]
     },
     "execution_count": 168,
     "metadata": {},
     "output_type": "execute_result"
    }
   ],
   "source": [
    "ridge = Ridge()\n",
    "ridge.fit(X_train, y_train)\n",
    "\n",
    "trainscore=ridge.score(X_train,y_train)\n",
    "print(trainscore)\n",
    "testscore=ridge.score(X_test,y_test)\n",
    "print(testscore)\n",
    "print(\"mse = \",mean_squared_error(y_test, ridge.predict(X_test)))\n",
    "coeff_used = np.sum(ridge.coef_!=0)\n",
    "print (\"number of features used: \", coeff_used)\n",
    "print(\"best model coefficients:\")\n",
    "pd.Series(ridge.coef_, index=X.columns)"
   ]
  },
  {
   "cell_type": "code",
   "execution_count": 169,
   "metadata": {},
   "outputs": [
    {
     "data": {
      "image/png": "[encoded data removed]",
      "text/plain": [
       "<matplotlib.figure.Figure at 0x1bf96cd3cc0>"
      ]
     },
     "metadata": {},
     "output_type": "display_data"
    }
   ],
   "source": [
    "plt.figure(figsize = (7,7))\n",
    "plt.plot(ridge.coef_,'s',label = \"ridge alpha=1\")\n",
    "plt.plot(ridgecv.coef_,'^',label = \"ridgecv alpha=2.98\")\n",
    "plt.xlabel('Coefficient index')\n",
    "plt.ylabel('Coefficient magnitude')\n",
    "plt.legend(ncol=2,loc=(0,1.05))\n",
    "plt.show()"
   ]
  },
  {
   "cell_type": "code",
   "execution_count": 170,
   "metadata": {},
   "outputs": [
    {
     "name": "stdout",
     "output_type": "stream",
     "text": [
      "Accuracy of training data : 77.23\n",
      "Accuracy of testing data : 83.65\n"
     ]
    },
    {
     "data": {
      "text/plain": [
       "MSSubClass       -157.201439\n",
       "LotArea             0.261775\n",
       "OverallQual     13134.812776\n",
       "OverallCond      4986.068831\n",
       "Houseage         -533.103653\n",
       "MasVnrArea         27.466248\n",
       "BsmtFinSF1          8.804682\n",
       "BsmtUnfSF           0.245266\n",
       "TotalBsmtSF        11.719379\n",
       "1stFlrSF            3.950776\n",
       "GrLivArea          51.848864\n",
       "TotRmsAbvGrd      620.575435\n",
       "Fireplaces       3235.471619\n",
       "GarageCars       3296.507525\n",
       "GarageArea         32.069009\n",
       "WoodDeckSF         39.721385\n",
       "OpenPorchSF        14.012332\n",
       "dtype: float64"
      ]
     },
     "execution_count": 170,
     "metadata": {},
     "output_type": "execute_result"
    }
   ],
   "source": [
    "from sklearn.linear_model import ElasticNet\n",
    "\n",
    "els_reg = ElasticNet(alpha=1, l1_ratio=0.5, normalize=False)\n",
    "els_reg.fit(X_train,y_train)\n",
    "print('Accuracy of training data :',np.round(els_reg.score(X_train,y_train)*100,2))\n",
    "print('Accuracy of testing data :',np.round(els_reg.score(X_test,y_test)*100,2))\n",
    "pd.Series(els_reg.coef_, index=X.columns)"
   ]
  },
  {
   "cell_type": "code",
   "execution_count": 171,
   "metadata": {},
   "outputs": [
    {
     "name": "stdout",
     "output_type": "stream",
     "text": [
      "mean square error for ElasticNet for Test Data:\n"
     ]
    },
    {
     "data": {
      "text/plain": [
       "991161816.96000004"
      ]
     },
     "execution_count": 171,
     "metadata": {},
     "output_type": "execute_result"
    }
   ],
   "source": [
    "predict_els = els_reg.predict(X_test)\n",
    "from sklearn import metrics\n",
    "print('mean square error for ElasticNet for Test Data:')\n",
    "np.round(metrics.mean_squared_error(y_test,predict_els),2)"
   ]
  },
  {
   "cell_type": "code",
   "execution_count": 172,
   "metadata": {},
   "outputs": [
    {
     "name": "stdout",
     "output_type": "stream",
     "text": [
      "0.005\n",
      "0.5\n",
      "Accuracy of training data : 67.16\n",
      "Accuracy of testing data : 70.91\n"
     ]
    },
    {
     "data": {
      "text/plain": [
       "MSSubClass       -25.596745\n",
       "LotArea            0.190208\n",
       "OverallQual     6937.400813\n",
       "OverallCond      767.714395\n",
       "Houseage        -196.330758\n",
       "MasVnrArea        24.786799\n",
       "BsmtFinSF1         7.387959\n",
       "BsmtUnfSF          3.787896\n",
       "TotalBsmtSF       11.271258\n",
       "1stFlrSF          12.573217\n",
       "GrLivArea         14.080788\n",
       "TotRmsAbvGrd    3263.125261\n",
       "Fireplaces      7749.223072\n",
       "GarageCars      8232.621560\n",
       "GarageArea        25.360074\n",
       "WoodDeckSF        26.844685\n",
       "OpenPorchSF       50.052778\n",
       "dtype: float64"
      ]
     },
     "execution_count": 172,
     "metadata": {},
     "output_type": "execute_result"
    }
   ],
   "source": [
    "from sklearn.linear_model import ElasticNetCV\n",
    "els_regcv = ElasticNetCV(alphas=alphas, cv=10, normalize=True)\n",
    "els_regcv.fit(X_train,y_train)\n",
    "print(els_regcv.alpha_)\n",
    "print(els_regcv.l1_ratio_)\n",
    "print('Accuracy of training data :',np.round(els_regcv.score(X_train,y_train)*100,2))\n",
    "print('Accuracy of testing data :',np.round(els_regcv.score(X_test,y_test)*100,2))\n",
    "pd.Series(els_regcv.coef_, index=X.columns)"
   ]
  },
  {
   "cell_type": "code",
   "execution_count": 173,
   "metadata": {},
   "outputs": [
    {
     "name": "stdout",
     "output_type": "stream",
     "text": [
      "mean square error for ElasticNetCV for Test Data:\n"
     ]
    },
    {
     "data": {
      "text/plain": [
       "1763655320.96"
      ]
     },
     "execution_count": 173,
     "metadata": {},
     "output_type": "execute_result"
    }
   ],
   "source": [
    "predict_elscv = els_regcv.predict(X_test)\n",
    "print('mean square error for ElasticNetCV for Test Data:')\n",
    "np.round(metrics.mean_squared_error(y_test,predict_elscv),2)"
   ]
  },
  {
   "cell_type": "code",
   "execution_count": 174,
   "metadata": {},
   "outputs": [
    {
     "data": {
      "image/png": "[encoded data removed]",
      "text/plain": [
       "<matplotlib.figure.Figure at 0x1bf96e11438>"
      ]
     },
     "metadata": {},
     "output_type": "display_data"
    }
   ],
   "source": [
    "plt.figure(figsize = (7,7))\n",
    "plt.plot(els_reg.coef_,'s',label = \"Elastic Net alpha=1, ratio=0.5\")\n",
    "plt.plot(els_regcv.coef_,'^',label = \"Elastic NetCV alpha=0.015, ratio=0.5\")\n",
    "plt.xlabel('Coefficient index')\n",
    "plt.ylabel('Coefficient magnitude')\n",
    "plt.legend(ncol=2,loc=(0,1.05))\n",
    "plt.show()"
   ]
  },
  {
   "cell_type": "code",
   "execution_count": 175,
   "metadata": {
    "collapsed": true
   },
   "outputs": [],
   "source": [
    "### PCA"
   ]
  },
  {
   "cell_type": "code",
   "execution_count": 176,
   "metadata": {
    "collapsed": true
   },
   "outputs": [],
   "source": [
    "from sklearn.preprocessing import scale\n",
    "from sklearn.decomposition import PCA\n",
    "from sklearn.linear_model import LinearRegression\n",
    "from sklearn.cross_decomposition import PLSRegression, PLSSVD\n",
    "from sklearn.metrics import mean_squared_error"
   ]
  },
  {
   "cell_type": "code",
   "execution_count": 177,
   "metadata": {},
   "outputs": [
    {
     "data": {
      "text/html": [
       "<div>\n",
       "<style>\n",
       "    .dataframe thead tr:only-child th {\n",
       "        text-align: right;\n",
       "    }\n",
       "\n",
       "    .dataframe thead th {\n",
       "        text-align: left;\n",
       "    }\n",
       "\n",
       "    .dataframe tbody tr th {\n",
       "        vertical-align: top;\n",
       "    }\n",
       "</style>\n",
       "<table border=\"1\" class=\"dataframe\">\n",
       "  <thead>\n",
       "    <tr style=\"text-align: right;\">\n",
       "      <th></th>\n",
       "      <th>0</th>\n",
       "      <th>1</th>\n",
       "      <th>2</th>\n",
       "      <th>3</th>\n",
       "      <th>4</th>\n",
       "      <th>5</th>\n",
       "    </tr>\n",
       "  </thead>\n",
       "  <tbody>\n",
       "    <tr>\n",
       "      <th>0</th>\n",
       "      <td>-0.046663</td>\n",
       "      <td>0.115425</td>\n",
       "      <td>0.184038</td>\n",
       "      <td>-0.668492</td>\n",
       "      <td>0.061230</td>\n",
       "      <td>-0.159396</td>\n",
       "    </tr>\n",
       "    <tr>\n",
       "      <th>1</th>\n",
       "      <td>0.142983</td>\n",
       "      <td>0.106462</td>\n",
       "      <td>0.312178</td>\n",
       "      <td>0.295037</td>\n",
       "      <td>-0.039370</td>\n",
       "      <td>-0.006871</td>\n",
       "    </tr>\n",
       "    <tr>\n",
       "      <th>2</th>\n",
       "      <td>0.345983</td>\n",
       "      <td>0.022643</td>\n",
       "      <td>-0.019291</td>\n",
       "      <td>-0.146091</td>\n",
       "      <td>-0.195247</td>\n",
       "      <td>0.109294</td>\n",
       "    </tr>\n",
       "    <tr>\n",
       "      <th>3</th>\n",
       "      <td>-0.091203</td>\n",
       "      <td>0.206068</td>\n",
       "      <td>0.315801</td>\n",
       "      <td>0.249391</td>\n",
       "      <td>-0.434152</td>\n",
       "      <td>0.470699</td>\n",
       "    </tr>\n",
       "    <tr>\n",
       "      <th>4</th>\n",
       "      <td>-0.235046</td>\n",
       "      <td>0.367589</td>\n",
       "      <td>0.264670</td>\n",
       "      <td>0.193832</td>\n",
       "      <td>0.059546</td>\n",
       "      <td>0.027395</td>\n",
       "    </tr>\n",
       "  </tbody>\n",
       "</table>\n",
       "</div>"
      ],
      "text/plain": [
       "          0         1         2         3         4         5\n",
       "0 -0.046663  0.115425  0.184038 -0.668492  0.061230 -0.159396\n",
       "1  0.142983  0.106462  0.312178  0.295037 -0.039370 -0.006871\n",
       "2  0.345983  0.022643 -0.019291 -0.146091 -0.195247  0.109294\n",
       "3 -0.091203  0.206068  0.315801  0.249391 -0.434152  0.470699\n",
       "4 -0.235046  0.367589  0.264670  0.193832  0.059546  0.027395"
      ]
     },
     "execution_count": 177,
     "metadata": {},
     "output_type": "execute_result"
    }
   ],
   "source": [
    "pca = PCA()\n",
    "X_train_reduced = pca.fit_transform(scale(X_train))\n",
    "X_test_reduced = pca.fit_transform(scale(X_test))\n",
    "pd.DataFrame(pca.components_.T).loc[:4,:5]"
   ]
  },
  {
   "cell_type": "code",
   "execution_count": 178,
   "metadata": {},
   "outputs": [
    {
     "data": {
      "text/plain": [
       "(-1, 18.899999999999999)"
      ]
     },
     "execution_count": 178,
     "metadata": {},
     "output_type": "execute_result"
    },
    {
     "data": {
      "image/png": "[encoded data removed]",
      "text/plain": [
       "<matplotlib.figure.Figure at 0x1bf94ed7b00>"
      ]
     },
     "metadata": {},
     "output_type": "display_data"
    }
   ],
   "source": [
    "from sklearn import model_selection\n",
    "# 10-fold CV, with shuffle\n",
    "n = len(X_train_reduced)\n",
    "kf_10 = model_selection.KFold(n_splits=10, shuffle=True, random_state=1)\n",
    "\n",
    "regr = LinearRegression()\n",
    "mse = []\n",
    "\n",
    "# Calculate MSE with only the intercept (no principal components in regression)\n",
    "score = -1*model_selection.cross_val_score(regr, np.ones((n,1)), y_train.ravel(), cv=kf_10, scoring='neg_mean_squared_error').mean()    \n",
    "mse.append(score)\n",
    "\n",
    "# Calculate MSE using CV for the 18 principle components, adding one component at the time.\n",
    "for i in np.arange(1, 19):\n",
    "    score = -1*model_selection.cross_val_score(regr, X_train_reduced[:,:i], y_train.ravel(), cv=kf_10, scoring='neg_mean_squared_error').mean()\n",
    "    mse.append(score)\n",
    "    \n",
    "# Plot results    \n",
    "plt.plot(mse, '-v')\n",
    "plt.xlabel('Number of principal components in regression')\n",
    "plt.ylabel('MSE')\n",
    "plt.title('Sale Price')\n",
    "plt.xlim(xmin=-1)"
   ]
  },
  {
   "cell_type": "code",
   "execution_count": 179,
   "metadata": {},
   "outputs": [
    {
     "data": {
      "text/plain": [
       "(-1, 18.899999999999999)"
      ]
     },
     "execution_count": 179,
     "metadata": {},
     "output_type": "execute_result"
    },
    {
     "data": {
      "image/png": "[encoded data removed]",
      "text/plain": [
       "<matplotlib.figure.Figure at 0x1bf94ed7940>"
      ]
     },
     "metadata": {},
     "output_type": "display_data"
    }
   ],
   "source": [
    "from sklearn import model_selection\n",
    "# 10-fold CV, with shuffle\n",
    "n = len(X_train_reduced)\n",
    "kf_10 = model_selection.KFold( n_splits=10, shuffle=True, random_state=1)\n",
    "\n",
    "clf = LinearRegression()\n",
    "accuracy = []\n",
    "\n",
    "# Calculate score with only the intercept (no principal components in regression)\n",
    "clf.fit(np.ones((n,1)), y_train.ravel())\n",
    "acc_score = clf.score(np.ones((n,1)), y_train.ravel())\n",
    "accuracy.append(acc_score)\n",
    "\n",
    "# Calculate score using CV for the 18 principle components, adding one component at the time.\n",
    "for i in np.arange(1, 19):\n",
    "    clf.fit(X_train_reduced[:,:i], y_train.ravel())\n",
    "    acc_score = clf.score(X_train_reduced[:,:i], y_train.ravel())\n",
    "    accuracy.append(acc_score)\n",
    "    \n",
    "# Plot results    \n",
    "plt.plot(accuracy, '-v')\n",
    "plt.xlabel('Number of principal components in regression')\n",
    "plt.ylabel('score')\n",
    "plt.title('Sale Price')\n",
    "plt.xlim(xmin=-1)"
   ]
  },
  {
   "cell_type": "code",
   "execution_count": 180,
   "metadata": {},
   "outputs": [
    {
     "name": "stdout",
     "output_type": "stream",
     "text": [
      "1887310952.05\n",
      "0.714752529357\n"
     ]
    }
   ],
   "source": [
    "clf.fit(X_train_reduced[:,:2], y_train.ravel())\n",
    "print(-1*model_selection.cross_val_score(regr, X_train_reduced[:,:2], y_train.ravel(), cv=kf_10, scoring='neg_mean_squared_error').mean())\n",
    "print(clf.score(X_train_reduced[:,:2], y_train.ravel()))"
   ]
  },
  {
   "cell_type": "code",
   "execution_count": 181,
   "metadata": {},
   "outputs": [
    {
     "name": "stdout",
     "output_type": "stream",
     "text": [
      "1595616365.98\n",
      "0.774757646268\n"
     ]
    }
   ],
   "source": [
    "clf.fit(X_train_reduced[:,:12], y_train.ravel())\n",
    "print(-1*model_selection.cross_val_score(regr, X_train_reduced[:,:12], y_train.ravel(), cv=kf_10, scoring='neg_mean_squared_error').mean())\n",
    "print(clf.score(X_train_reduced[:,:12], y_train.ravel()))"
   ]
  },
  {
   "cell_type": "code",
   "execution_count": 182,
   "metadata": {},
   "outputs": [
    {
     "name": "stdout",
     "output_type": "stream",
     "text": [
      "1335950151.79\n",
      "0.785281551503\n"
     ]
    }
   ],
   "source": [
    "clf.fit(X_test_reduced[:,:2], y_test.ravel())\n",
    "print(-1*model_selection.cross_val_score(regr, X_test_reduced[:,:2], y_test.ravel(), cv=kf_10, scoring='neg_mean_squared_error').mean())\n",
    "print(clf.score(X_test_reduced[:,:2], y_test.ravel()))"
   ]
  },
  {
   "cell_type": "code",
   "execution_count": 183,
   "metadata": {
    "collapsed": true
   },
   "outputs": [],
   "source": [
    "### We see that the smallest cross-validation error occurs when M=2 components are used. This is barely fewer than M=2 , which amounts to simply performing least squares, because when all of the components are used in PCR no dimension reduction occurs. However, from the plot we also see that the cross-validation error is roughly the same when only one component is included in the model. This suggests that a model that uses just a small number of components might suffice."
   ]
  },
  {
   "cell_type": "code",
   "execution_count": 184,
   "metadata": {
    "collapsed": true
   },
   "outputs": [],
   "source": [
    "### Random Forest"
   ]
  },
  {
   "cell_type": "code",
   "execution_count": 185,
   "metadata": {
    "collapsed": true
   },
   "outputs": [],
   "source": [
    "from sklearn.model_selection import cross_val_score, GridSearchCV\n",
    "from sklearn.ensemble import RandomForestRegressor\n",
    "from sklearn.preprocessing import MinMaxScaler"
   ]
  },
  {
   "cell_type": "code",
   "execution_count": 186,
   "metadata": {
    "collapsed": true
   },
   "outputs": [],
   "source": [
    "def rfr_model(X, y):\n",
    "# Perform Grid-Search\n",
    "    gsc = GridSearchCV(\n",
    "        estimator=RandomForestRegressor(),\n",
    "        param_grid={\n",
    "            'max_depth': range(3,7),\n",
    "            'n_estimators': (10, 50, 100, 1000),\n",
    "        },\n",
    "        cv=5, scoring='neg_mean_squared_error', verbose=0,n_jobs=-1)\n",
    "    \n",
    "    grid_result = gsc.fit(X, y)\n",
    "    best_params = grid_result.best_params_\n",
    "    \n",
    "    rfr = RandomForestRegressor(max_depth=best_params[\"max_depth\"], n_estimators=best_params[\"n_estimators\"],random_state=False, verbose=False)\n",
    "    scores = cross_val_score(rfr, X, y, cv=10, scoring='neg_mean_absolute_error')\n",
    "\n",
    "    return scores"
   ]
  },
  {
   "cell_type": "code",
   "execution_count": 187,
   "metadata": {},
   "outputs": [
    {
     "data": {
      "text/plain": [
       "array([-19539.35769557, -20064.03580907, -18351.55831582, -21311.14250306,\n",
       "       -22384.97243774, -16572.07723279, -18162.27736823, -18789.05232182,\n",
       "       -21771.88053681, -19223.32718743])"
      ]
     },
     "execution_count": 187,
     "metadata": {},
     "output_type": "execute_result"
    }
   ],
   "source": [
    "rfr_model(X,y)"
   ]
  },
  {
   "cell_type": "code",
   "execution_count": 188,
   "metadata": {
    "collapsed": true
   },
   "outputs": [],
   "source": [
    "from sklearn import ensemble"
   ]
  },
  {
   "cell_type": "code",
   "execution_count": 189,
   "metadata": {},
   "outputs": [
    {
     "data": {
      "image/png": "[encoded data removed]",
      "text/plain": [
       "<matplotlib.figure.Figure at 0x1bf96ec4400>"
      ]
     },
     "metadata": {},
     "output_type": "display_data"
    }
   ],
   "source": [
    "maxdepths=range(1,20)\n",
    "fig=plt.figure()\n",
    "ax=fig.add_subplot(1,1,1)\n",
    "testing_scores=[]\n",
    "training_scores=[]\n",
    "for max_depth in maxdepths:\n",
    "    regr=ensemble.RandomForestRegressor(max_depth=max_depth)\n",
    "    regr.fit(X_train,y_train)\n",
    "    training_scores.append(regr.score(X_train,y_train))\n",
    "    testing_scores.append(regr.score(X_test,y_test))\n",
    "ax.plot(maxdepths,training_scores,label=\"Training Score\")\n",
    "ax.plot(maxdepths,testing_scores,label=\"Testing Score\")\n",
    "ax.set_xlabel(\"max_depth\")\n",
    "ax.set_ylabel(\"score\")\n",
    "ax.legend(loc=\"lower right\")\n",
    "ax.set_ylim(0,1.05)\n",
    "plt.suptitle(\"RandomForestRegressor\")\n",
    "\n",
    "plt.grid(axis='x',linestyle='-.')\n",
    "plt.show()"
   ]
  },
  {
   "cell_type": "code",
   "execution_count": 190,
   "metadata": {},
   "outputs": [
    {
     "name": "stdout",
     "output_type": "stream",
     "text": [
      "0.792016728331\n",
      "0.765626026146\n"
     ]
    }
   ],
   "source": [
    "regr=ensemble.RandomForestRegressor(max_depth=3)\n",
    "regr.fit(X_train,y_train)\n",
    "print(regr.score(X_train,y_train))\n",
    "print(regr.score(X_test,y_test))"
   ]
  },
  {
   "cell_type": "code",
   "execution_count": 191,
   "metadata": {
    "collapsed": true
   },
   "outputs": [],
   "source": [
    "### SVM"
   ]
  },
  {
   "cell_type": "code",
   "execution_count": 192,
   "metadata": {
    "collapsed": true
   },
   "outputs": [],
   "source": [
    "from sklearn.svm import SVR"
   ]
  },
  {
   "cell_type": "code",
   "execution_count": 193,
   "metadata": {},
   "outputs": [
    {
     "name": "stdout",
     "output_type": "stream",
     "text": [
      "0.703560915232\n",
      "0.789945199361\n"
     ]
    }
   ],
   "source": [
    "regressor=SVR(kernel='linear',degree=1)\n",
    "\n",
    "regressor.fit(X_train,y_train)\n",
    "print(regressor.score(X_train,y_train))\n",
    "pred=regressor.predict(X_test)\n",
    "print(regressor.score(X_test,y_test))"
   ]
  },
  {
   "cell_type": "code",
   "execution_count": 194,
   "metadata": {},
   "outputs": [
    {
     "name": "stdout",
     "output_type": "stream",
     "text": [
      "0.688809746738\n",
      "0.784258090468\n"
     ]
    }
   ],
   "source": [
    "regressor=SVR(kernel='poly',degree=1)\n",
    "\n",
    "regressor.fit(X_train,y_train)\n",
    "print(regressor.score(X_train,y_train))\n",
    "pred=regressor.predict(X_test)\n",
    "print(regressor.score(X_test,y_test))"
   ]
  },
  {
   "cell_type": "code",
   "execution_count": 195,
   "metadata": {},
   "outputs": [
    {
     "name": "stdout",
     "output_type": "stream",
     "text": [
      "-0.0650011484892\n",
      "-0.0741932625642\n"
     ]
    }
   ],
   "source": [
    "regressor=SVR(kernel='rbf',degree=1)\n",
    "\n",
    "regressor.fit(X_train,y_train)\n",
    "print(regressor.score(X_train,y_train))\n",
    "pred=regressor.predict(X_test)\n",
    "print(regressor.score(X_test,y_test))"
   ]
  },
  {
   "cell_type": "code",
   "execution_count": 196,
   "metadata": {},
   "outputs": [
    {
     "name": "stdout",
     "output_type": "stream",
     "text": [
      "-0.0650188361976\n",
      "-0.0741932710866\n"
     ]
    }
   ],
   "source": [
    "regressor=SVR(kernel='sigmoid',degree=1)\n",
    "\n",
    "regressor.fit(X_train,y_train)\n",
    "print(regressor.score(X_train,y_train))\n",
    "pred=regressor.predict(X_test)\n",
    "print(regressor.score(X_test,y_test))"
   ]
  }
 ],
 "metadata": {
  "kernelspec": {
   "display_name": "Python 3",
   "language": "python",
   "name": "python3"
  },
  "language_info": {
   "codemirror_mode": {
    "name": "ipython",
    "version": 3
   },
   "file_extension": ".py",
   "mimetype": "text/x-python",
   "name": "python",
   "nbconvert_exporter": "python",
   "pygments_lexer": "ipython3",
   "version": "3.6.3"
  }
 },
 "nbformat": 4,
 "nbformat_minor": 2
}
